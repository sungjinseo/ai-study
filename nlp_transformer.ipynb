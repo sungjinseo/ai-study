{
 "cells": [
  {
   "cell_type": "code",
   "execution_count": 1,
   "id": "2cd43ca4-0d27-4c8f-a89a-acdbd36ab750",
   "metadata": {
    "collapsed": true,
    "jupyter": {
     "outputs_hidden": true
    }
   },
   "outputs": [
    {
     "name": "stdout",
     "output_type": "stream",
     "text": [
      "Collecting sentence-transformers\n",
      "  Downloading sentence-transformers-2.2.2.tar.gz (85 kB)\n",
      "\u001b[2K     \u001b[90m━━━━━━━━━━━━━━━━━━━━━━━━━━━━━━━━━━━━━━━━\u001b[0m \u001b[32m86.0/86.0 kB\u001b[0m \u001b[31m6.9 MB/s\u001b[0m eta \u001b[36m0:00:00\u001b[0m\n",
      "\u001b[?25h  Preparing metadata (setup.py) ... \u001b[?25ldone\n",
      "\u001b[?25hCollecting transformers<5.0.0,>=4.6.0 (from sentence-transformers)\n",
      "  Obtaining dependency information for transformers<5.0.0,>=4.6.0 from https://files.pythonhosted.org/packages/1a/06/3817f9bb923437ead9a794f0ac0d03b8b5e0478ab112db4c413dd37c09da/transformers-4.33.2-py3-none-any.whl.metadata\n",
      "  Downloading transformers-4.33.2-py3-none-any.whl.metadata (119 kB)\n",
      "\u001b[2K     \u001b[90m━━━━━━━━━━━━━━━━━━━━━━━━━━━━━━━━━━━━━━━\u001b[0m \u001b[32m119.9/119.9 kB\u001b[0m \u001b[31m9.8 MB/s\u001b[0m eta \u001b[36m0:00:00\u001b[0m\n",
      "\u001b[?25hRequirement already satisfied: tqdm in /opt/conda/lib/python3.11/site-packages (from sentence-transformers) (4.65.0)\n",
      "Requirement already satisfied: torch>=1.6.0 in /opt/conda/lib/python3.11/site-packages (from sentence-transformers) (2.0.1)\n",
      "Requirement already satisfied: torchvision in /opt/conda/lib/python3.11/site-packages (from sentence-transformers) (0.15.2)\n",
      "Requirement already satisfied: numpy in /opt/conda/lib/python3.11/site-packages (from sentence-transformers) (1.24.3)\n",
      "Requirement already satisfied: scikit-learn in /opt/conda/lib/python3.11/site-packages (from sentence-transformers) (1.3.0)\n",
      "Requirement already satisfied: scipy in /opt/conda/lib/python3.11/site-packages (from sentence-transformers) (1.11.2)\n",
      "Collecting nltk (from sentence-transformers)\n",
      "  Downloading nltk-3.8.1-py3-none-any.whl (1.5 MB)\n",
      "\u001b[2K     \u001b[90m━━━━━━━━━━━━━━━━━━━━━━━━━━━━━━━━━━━━━━━━\u001b[0m \u001b[32m1.5/1.5 MB\u001b[0m \u001b[31m11.3 MB/s\u001b[0m eta \u001b[36m0:00:00\u001b[0ma \u001b[36m0:00:01\u001b[0m\n",
      "\u001b[?25hCollecting sentencepiece (from sentence-transformers)\n",
      "  Downloading sentencepiece-0.1.99-cp311-cp311-manylinux_2_17_x86_64.manylinux2014_x86_64.whl (1.3 MB)\n",
      "\u001b[2K     \u001b[90m━━━━━━━━━━━━━━━━━━━━━━━━━━━━━━━━━━━━━━━━\u001b[0m \u001b[32m1.3/1.3 MB\u001b[0m \u001b[31m11.2 MB/s\u001b[0m eta \u001b[36m0:00:00\u001b[0ma \u001b[36m0:00:01\u001b[0m\n",
      "\u001b[?25hRequirement already satisfied: huggingface-hub>=0.4.0 in /opt/conda/lib/python3.11/site-packages (from sentence-transformers) (0.17.2)\n",
      "Requirement already satisfied: filelock in /opt/conda/lib/python3.11/site-packages (from huggingface-hub>=0.4.0->sentence-transformers) (3.12.3)\n",
      "Requirement already satisfied: fsspec in /opt/conda/lib/python3.11/site-packages (from huggingface-hub>=0.4.0->sentence-transformers) (2023.9.1)\n",
      "Requirement already satisfied: requests in /opt/conda/lib/python3.11/site-packages (from huggingface-hub>=0.4.0->sentence-transformers) (2.29.0)\n",
      "Requirement already satisfied: pyyaml>=5.1 in /opt/conda/lib/python3.11/site-packages (from huggingface-hub>=0.4.0->sentence-transformers) (6.0)\n",
      "Requirement already satisfied: typing-extensions>=3.7.4.3 in /opt/conda/lib/python3.11/site-packages (from huggingface-hub>=0.4.0->sentence-transformers) (4.8.0)\n",
      "Requirement already satisfied: packaging>=20.9 in /opt/conda/lib/python3.11/site-packages (from huggingface-hub>=0.4.0->sentence-transformers) (23.0)\n",
      "Requirement already satisfied: sympy in /opt/conda/lib/python3.11/site-packages (from torch>=1.6.0->sentence-transformers) (1.12)\n",
      "Requirement already satisfied: networkx in /opt/conda/lib/python3.11/site-packages (from torch>=1.6.0->sentence-transformers) (3.1)\n",
      "Requirement already satisfied: jinja2 in /opt/conda/lib/python3.11/site-packages (from torch>=1.6.0->sentence-transformers) (3.1.2)\n",
      "Requirement already satisfied: nvidia-cuda-nvrtc-cu11==11.7.99 in /opt/conda/lib/python3.11/site-packages (from torch>=1.6.0->sentence-transformers) (11.7.99)\n",
      "Requirement already satisfied: nvidia-cuda-runtime-cu11==11.7.99 in /opt/conda/lib/python3.11/site-packages (from torch>=1.6.0->sentence-transformers) (11.7.99)\n",
      "Requirement already satisfied: nvidia-cuda-cupti-cu11==11.7.101 in /opt/conda/lib/python3.11/site-packages (from torch>=1.6.0->sentence-transformers) (11.7.101)\n",
      "Requirement already satisfied: nvidia-cudnn-cu11==8.5.0.96 in /opt/conda/lib/python3.11/site-packages (from torch>=1.6.0->sentence-transformers) (8.5.0.96)\n",
      "Requirement already satisfied: nvidia-cublas-cu11==11.10.3.66 in /opt/conda/lib/python3.11/site-packages (from torch>=1.6.0->sentence-transformers) (11.10.3.66)\n",
      "Requirement already satisfied: nvidia-cufft-cu11==10.9.0.58 in /opt/conda/lib/python3.11/site-packages (from torch>=1.6.0->sentence-transformers) (10.9.0.58)\n",
      "Requirement already satisfied: nvidia-curand-cu11==10.2.10.91 in /opt/conda/lib/python3.11/site-packages (from torch>=1.6.0->sentence-transformers) (10.2.10.91)\n",
      "Requirement already satisfied: nvidia-cusolver-cu11==11.4.0.1 in /opt/conda/lib/python3.11/site-packages (from torch>=1.6.0->sentence-transformers) (11.4.0.1)\n",
      "Requirement already satisfied: nvidia-cusparse-cu11==11.7.4.91 in /opt/conda/lib/python3.11/site-packages (from torch>=1.6.0->sentence-transformers) (11.7.4.91)\n",
      "Requirement already satisfied: nvidia-nccl-cu11==2.14.3 in /opt/conda/lib/python3.11/site-packages (from torch>=1.6.0->sentence-transformers) (2.14.3)\n",
      "Requirement already satisfied: nvidia-nvtx-cu11==11.7.91 in /opt/conda/lib/python3.11/site-packages (from torch>=1.6.0->sentence-transformers) (11.7.91)\n",
      "Requirement already satisfied: triton==2.0.0 in /opt/conda/lib/python3.11/site-packages (from torch>=1.6.0->sentence-transformers) (2.0.0)\n",
      "Requirement already satisfied: setuptools in /opt/conda/lib/python3.11/site-packages (from nvidia-cublas-cu11==11.10.3.66->torch>=1.6.0->sentence-transformers) (67.8.0)\n",
      "Requirement already satisfied: wheel in /opt/conda/lib/python3.11/site-packages (from nvidia-cublas-cu11==11.10.3.66->torch>=1.6.0->sentence-transformers) (0.38.4)\n",
      "Requirement already satisfied: cmake in /opt/conda/lib/python3.11/site-packages (from triton==2.0.0->torch>=1.6.0->sentence-transformers) (3.27.4.1)\n",
      "Requirement already satisfied: lit in /opt/conda/lib/python3.11/site-packages (from triton==2.0.0->torch>=1.6.0->sentence-transformers) (16.0.6)\n",
      "Requirement already satisfied: regex!=2019.12.17 in /opt/conda/lib/python3.11/site-packages (from transformers<5.0.0,>=4.6.0->sentence-transformers) (2023.8.8)\n",
      "Collecting tokenizers!=0.11.3,<0.14,>=0.11.1 (from transformers<5.0.0,>=4.6.0->sentence-transformers)\n",
      "  Downloading tokenizers-0.13.3-cp311-cp311-manylinux_2_17_x86_64.manylinux2014_x86_64.whl (7.8 MB)\n",
      "\u001b[2K     \u001b[90m━━━━━━━━━━━━━━━━━━━━━━━━━━━━━━━━━━━━━━━━\u001b[0m \u001b[32m7.8/7.8 MB\u001b[0m \u001b[31m10.2 MB/s\u001b[0m eta \u001b[36m0:00:00\u001b[0m00:01\u001b[0m00:01\u001b[0m\n",
      "\u001b[?25hCollecting safetensors>=0.3.1 (from transformers<5.0.0,>=4.6.0->sentence-transformers)\n",
      "  Obtaining dependency information for safetensors>=0.3.1 from https://files.pythonhosted.org/packages/9c/ee/de72fa290bef49b22aacdf112e70f40d3b1beb526dd65e94e0f540d192f0/safetensors-0.3.3-cp311-cp311-manylinux_2_17_x86_64.manylinux2014_x86_64.whl.metadata\n",
      "  Downloading safetensors-0.3.3-cp311-cp311-manylinux_2_17_x86_64.manylinux2014_x86_64.whl.metadata (4.7 kB)\n",
      "Requirement already satisfied: click in /opt/conda/lib/python3.11/site-packages (from nltk->sentence-transformers) (8.1.7)\n",
      "Requirement already satisfied: joblib in /opt/conda/lib/python3.11/site-packages (from nltk->sentence-transformers) (1.3.2)\n",
      "Requirement already satisfied: threadpoolctl>=2.0.0 in /opt/conda/lib/python3.11/site-packages (from scikit-learn->sentence-transformers) (3.2.0)\n",
      "Requirement already satisfied: pillow!=8.3.*,>=5.3.0 in /opt/conda/lib/python3.11/site-packages (from torchvision->sentence-transformers) (10.0.0)\n",
      "Requirement already satisfied: MarkupSafe>=2.0 in /opt/conda/lib/python3.11/site-packages (from jinja2->torch>=1.6.0->sentence-transformers) (2.1.1)\n",
      "Requirement already satisfied: charset-normalizer<4,>=2 in /opt/conda/lib/python3.11/site-packages (from requests->huggingface-hub>=0.4.0->sentence-transformers) (2.0.4)\n",
      "Requirement already satisfied: idna<4,>=2.5 in /opt/conda/lib/python3.11/site-packages (from requests->huggingface-hub>=0.4.0->sentence-transformers) (3.4)\n",
      "Requirement already satisfied: urllib3<1.27,>=1.21.1 in /opt/conda/lib/python3.11/site-packages (from requests->huggingface-hub>=0.4.0->sentence-transformers) (1.26.16)\n",
      "Requirement already satisfied: certifi>=2017.4.17 in /opt/conda/lib/python3.11/site-packages (from requests->huggingface-hub>=0.4.0->sentence-transformers) (2023.7.22)\n",
      "Requirement already satisfied: mpmath>=0.19 in /opt/conda/lib/python3.11/site-packages (from sympy->torch>=1.6.0->sentence-transformers) (1.3.0)\n",
      "Downloading transformers-4.33.2-py3-none-any.whl (7.6 MB)\n",
      "\u001b[2K   \u001b[90m━━━━━━━━━━━━━━━━━━━━━━━━━━━━━━━━━━━━━━━━\u001b[0m \u001b[32m7.6/7.6 MB\u001b[0m \u001b[31m10.8 MB/s\u001b[0m eta \u001b[36m0:00:00\u001b[0m00:01\u001b[0m00:01\u001b[0m\n",
      "\u001b[?25hDownloading safetensors-0.3.3-cp311-cp311-manylinux_2_17_x86_64.manylinux2014_x86_64.whl (1.3 MB)\n",
      "\u001b[2K   \u001b[90m━━━━━━━━━━━━━━━━━━━━━━━━━━━━━━━━━━━━━━━━\u001b[0m \u001b[32m1.3/1.3 MB\u001b[0m \u001b[31m10.8 MB/s\u001b[0m eta \u001b[36m0:00:00\u001b[0ma \u001b[36m0:00:01\u001b[0m\n",
      "\u001b[?25hBuilding wheels for collected packages: sentence-transformers\n",
      "  Building wheel for sentence-transformers (setup.py) ... \u001b[?25ldone\n",
      "\u001b[?25h  Created wheel for sentence-transformers: filename=sentence_transformers-2.2.2-py3-none-any.whl size=125925 sha256=edb486c95732298cb2655ecc9696d88760a5492f594750a0a434bb6492934b43\n",
      "  Stored in directory: /root/.cache/pip/wheels/ff/27/bf/ffba8b318b02d7f691a57084ee154e26ed24d012b0c7805881\n",
      "Successfully built sentence-transformers\n",
      "Installing collected packages: tokenizers, sentencepiece, safetensors, nltk, transformers, sentence-transformers\n",
      "Successfully installed nltk-3.8.1 safetensors-0.3.3 sentence-transformers-2.2.2 sentencepiece-0.1.99 tokenizers-0.13.3 transformers-4.33.2\n",
      "\u001b[33mWARNING: Running pip as the 'root' user can result in broken permissions and conflicting behaviour with the system package manager. It is recommended to use a virtual environment instead: https://pip.pypa.io/warnings/venv\u001b[0m\u001b[33m\n",
      "\u001b[0m"
     ]
    }
   ],
   "source": [
    "!pip install sentence-transformers"
   ]
  },
  {
   "cell_type": "code",
   "execution_count": 3,
   "id": "73f2ec76-8f72-4106-861f-04db90ffa650",
   "metadata": {},
   "outputs": [],
   "source": [
    "import pandas as pd\n",
    "from sentence_transformers import SentenceTransformer\n",
    "from sklearn.metrics.pairwise import cosine_similarity"
   ]
  },
  {
   "cell_type": "code",
   "execution_count": 4,
   "id": "09abee1c-cc9b-40a8-8c63-074673722a48",
   "metadata": {
    "collapsed": true,
    "jupyter": {
     "outputs_hidden": true
    }
   },
   "outputs": [
    {
     "data": {
      "application/vnd.jupyter.widget-view+json": {
       "model_id": "e8b714aaa9fc4a86a957ea28a75353d5",
       "version_major": 2,
       "version_minor": 0
      },
      "text/plain": [
       "Downloading (…)f4419/.gitattributes:   0%|          | 0.00/1.18k [00:00<?, ?B/s]"
      ]
     },
     "metadata": {},
     "output_type": "display_data"
    },
    {
     "data": {
      "application/vnd.jupyter.widget-view+json": {
       "model_id": "904e31b368144af59a48ff26f77c19a6",
       "version_major": 2,
       "version_minor": 0
      },
      "text/plain": [
       "Downloading (…)_Pooling/config.json:   0%|          | 0.00/190 [00:00<?, ?B/s]"
      ]
     },
     "metadata": {},
     "output_type": "display_data"
    },
    {
     "data": {
      "application/vnd.jupyter.widget-view+json": {
       "model_id": "1bc7b2f822f54f6b93d583f0c03cd524",
       "version_major": 2,
       "version_minor": 0
      },
      "text/plain": [
       "Downloading (…)9cf1bf4419/README.md:   0%|          | 0.00/4.86k [00:00<?, ?B/s]"
      ]
     },
     "metadata": {},
     "output_type": "display_data"
    },
    {
     "data": {
      "application/vnd.jupyter.widget-view+json": {
       "model_id": "de480f92669b4b7e9c366e7f0a4d2706",
       "version_major": 2,
       "version_minor": 0
      },
      "text/plain": [
       "Downloading (…)f1bf4419/config.json:   0%|          | 0.00/744 [00:00<?, ?B/s]"
      ]
     },
     "metadata": {},
     "output_type": "display_data"
    },
    {
     "data": {
      "application/vnd.jupyter.widget-view+json": {
       "model_id": "7b9e29e33d5140d3a1afa056fa8b14c0",
       "version_major": 2,
       "version_minor": 0
      },
      "text/plain": [
       "Downloading (…)ce_transformers.json:   0%|          | 0.00/123 [00:00<?, ?B/s]"
      ]
     },
     "metadata": {},
     "output_type": "display_data"
    },
    {
     "data": {
      "application/vnd.jupyter.widget-view+json": {
       "model_id": "9bbd5f0e29a34d11be91bfe72950c621",
       "version_major": 2,
       "version_minor": 0
      },
      "text/plain": [
       "Downloading (…)_sts-dev_results.csv:   0%|          | 0.00/931 [00:00<?, ?B/s]"
      ]
     },
     "metadata": {},
     "output_type": "display_data"
    },
    {
     "data": {
      "application/vnd.jupyter.widget-view+json": {
       "model_id": "3a62f05121d1498890d3416fd28dbff2",
       "version_major": 2,
       "version_minor": 0
      },
      "text/plain": [
       "Downloading pytorch_model.bin:   0%|          | 0.00/443M [00:00<?, ?B/s]"
      ]
     },
     "metadata": {},
     "output_type": "display_data"
    },
    {
     "data": {
      "application/vnd.jupyter.widget-view+json": {
       "model_id": "42f4b94573c649bfbf0f49609842df79",
       "version_major": 2,
       "version_minor": 0
      },
      "text/plain": [
       "Downloading (…)nce_bert_config.json:   0%|          | 0.00/53.0 [00:00<?, ?B/s]"
      ]
     },
     "metadata": {},
     "output_type": "display_data"
    },
    {
     "data": {
      "application/vnd.jupyter.widget-view+json": {
       "model_id": "b1e8dd0d368544908c5ecb9d0adce51b",
       "version_major": 2,
       "version_minor": 0
      },
      "text/plain": [
       "Downloading (…)sts-test_results.csv:   0%|          | 0.00/302 [00:00<?, ?B/s]"
      ]
     },
     "metadata": {},
     "output_type": "display_data"
    },
    {
     "data": {
      "application/vnd.jupyter.widget-view+json": {
       "model_id": "b729dae7678d4aab886573e45cfcfdde",
       "version_major": 2,
       "version_minor": 0
      },
      "text/plain": [
       "Downloading (…)cial_tokens_map.json:   0%|          | 0.00/156 [00:00<?, ?B/s]"
      ]
     },
     "metadata": {},
     "output_type": "display_data"
    },
    {
     "data": {
      "application/vnd.jupyter.widget-view+json": {
       "model_id": "3ab79f8e34ad4f8581d4f977fa0e334b",
       "version_major": 2,
       "version_minor": 0
      },
      "text/plain": [
       "Downloading (…)f4419/tokenizer.json:   0%|          | 0.00/495k [00:00<?, ?B/s]"
      ]
     },
     "metadata": {},
     "output_type": "display_data"
    },
    {
     "data": {
      "application/vnd.jupyter.widget-view+json": {
       "model_id": "fe5e8da769b0423691dd471cf65a29c3",
       "version_major": 2,
       "version_minor": 0
      },
      "text/plain": [
       "Downloading (…)okenizer_config.json:   0%|          | 0.00/585 [00:00<?, ?B/s]"
      ]
     },
     "metadata": {},
     "output_type": "display_data"
    },
    {
     "data": {
      "application/vnd.jupyter.widget-view+json": {
       "model_id": "a61f1316e35e4ed89e09bd0f63d14137",
       "version_major": 2,
       "version_minor": 0
      },
      "text/plain": [
       "Downloading (…)9cf1bf4419/vocab.txt:   0%|          | 0.00/248k [00:00<?, ?B/s]"
      ]
     },
     "metadata": {},
     "output_type": "display_data"
    },
    {
     "data": {
      "application/vnd.jupyter.widget-view+json": {
       "model_id": "e75763dceebb4632b040688f33c813db",
       "version_major": 2,
       "version_minor": 0
      },
      "text/plain": [
       "Downloading (…)1bf4419/modules.json:   0%|          | 0.00/229 [00:00<?, ?B/s]"
      ]
     },
     "metadata": {},
     "output_type": "display_data"
    },
    {
     "name": "stderr",
     "output_type": "stream",
     "text": [
      "2023-09-22 10:35:25.285757: I tensorflow/core/platform/cpu_feature_guard.cc:182] This TensorFlow binary is optimized to use available CPU instructions in performance-critical operations.\n",
      "To enable the following instructions: AVX2 FMA, in other operations, rebuild TensorFlow with the appropriate compiler flags.\n",
      "2023-09-22 10:35:27.235118: W tensorflow/compiler/tf2tensorrt/utils/py_utils.cc:38] TF-TRT Warning: Could not find TensorRT\n"
     ]
    },
    {
     "ename": "NameError",
     "evalue": "name 'sentences' is not defined",
     "output_type": "error",
     "traceback": [
      "\u001b[0;31m---------------------------------------------------------------------------\u001b[0m",
      "\u001b[0;31mNameError\u001b[0m                                 Traceback (most recent call last)",
      "Cell \u001b[0;32mIn[4], line 2\u001b[0m\n\u001b[1;32m      1\u001b[0m model \u001b[38;5;241m=\u001b[39m SentenceTransformer(\u001b[38;5;124m'\u001b[39m\u001b[38;5;124mjhgan/ko-sroberta-multitask\u001b[39m\u001b[38;5;124m'\u001b[39m)\n\u001b[0;32m----> 2\u001b[0m embeddings \u001b[38;5;241m=\u001b[39m model\u001b[38;5;241m.\u001b[39mencode(\u001b[43msentences\u001b[49m)\n\u001b[1;32m      3\u001b[0m \u001b[38;5;28mprint\u001b[39m(embeddings)\n",
      "\u001b[0;31mNameError\u001b[0m: name 'sentences' is not defined"
     ]
    }
   ],
   "source": [
    "model = SentenceTransformer('jhgan/ko-sroberta-multitask')\n",
    "embeddings = model.encode(sentences)\n",
    "print(embeddings)"
   ]
  },
  {
   "cell_type": "code",
   "execution_count": 5,
   "id": "24e0fb5d-9dd5-4d08-bcb0-625273e82aa2",
   "metadata": {
    "collapsed": true,
    "jupyter": {
     "outputs_hidden": true
    }
   },
   "outputs": [
    {
     "data": {
      "text/plain": [
       "array([-1.78593144e-01, -5.61293960e-01,  4.46276516e-01, -1.50603086e-01,\n",
       "       -3.76700684e-02, -7.62825608e-01,  2.09379107e-01, -3.64589021e-02,\n",
       "        2.98452795e-01, -2.41037458e-01, -6.68550789e-01, -2.28057414e-01,\n",
       "       -6.40330434e-01,  8.62437040e-02, -1.20846078e-01,  3.24342251e-01,\n",
       "        2.35194921e-01, -1.59346908e-01,  3.03968489e-01, -3.05746734e-01,\n",
       "        3.84011924e-01,  4.27564085e-01,  4.51850414e-01,  6.87622130e-01,\n",
       "        1.16420828e-01,  6.62420273e-01,  2.50277996e-01, -1.45289272e-01,\n",
       "        7.07308650e-01, -2.81398781e-02, -6.45834029e-01, -4.65399921e-02,\n",
       "       -4.00333256e-01, -1.24739688e-02,  3.64074290e-01,  3.63886237e-01,\n",
       "       -3.57513666e-01, -4.03465927e-01, -3.31616879e-01, -1.97076291e-01,\n",
       "       -4.95101690e-01,  4.62569147e-02,  5.58893792e-02,  5.01659155e-01,\n",
       "       -3.42604816e-01, -9.15144324e-01, -2.68441617e-01, -4.71062422e-01,\n",
       "       -1.06321529e-01, -1.18265964e-01, -3.35127190e-02,  1.28225252e-01,\n",
       "        2.69817024e-01,  6.53008938e-01, -2.77158558e-01, -1.02365777e-01,\n",
       "        1.48780152e-01, -2.40917236e-01,  8.61788929e-01, -2.89628744e-01,\n",
       "        5.26641965e-01,  1.10364176e-01,  2.37197690e-02,  1.81531608e-01,\n",
       "        7.31810153e-01,  2.68298060e-01, -3.14116865e-01,  2.14070514e-01,\n",
       "       -9.14516330e-01, -3.94060127e-02,  6.26199961e-01,  1.34300008e-01,\n",
       "        3.62925619e-01, -2.57583678e-01, -2.64518559e-02, -2.25345939e-01,\n",
       "       -6.54306471e-01,  1.57881975e-01, -6.27044588e-02,  5.65775275e-01,\n",
       "       -5.14470756e-01, -1.31355613e-01, -1.53790982e-02, -7.09558189e-01,\n",
       "        1.27124339e-01, -6.18321776e-01, -1.59434408e-01, -1.71957418e-01,\n",
       "        5.15388958e-02, -4.32275057e-01, -2.65200108e-01, -3.81010413e-01,\n",
       "       -3.68841708e-01, -5.62352836e-01, -7.64372200e-02, -3.16831291e-01,\n",
       "        2.74506658e-01,  5.26283741e-01,  5.49404025e-01,  2.53256589e-01,\n",
       "        5.65137491e-02, -4.21732254e-02,  3.88280064e-01,  1.46930560e-01,\n",
       "       -1.04233004e-01, -3.32109258e-02, -2.65146434e-01,  2.64623821e-01,\n",
       "       -7.08019853e-01, -2.43386582e-01, -1.56169683e-01, -5.83878398e-01,\n",
       "        3.34245324e-01, -2.85837892e-02, -1.26060992e-01,  9.27784592e-02,\n",
       "       -6.05789006e-01,  3.54766488e-01,  7.73773044e-02, -5.40392041e-01,\n",
       "        4.21953341e-03, -7.63935506e-01,  7.74130672e-02,  1.52795285e-01,\n",
       "       -8.43035877e-01,  6.53756499e-01,  6.06655240e-01, -7.32905984e-01,\n",
       "        7.45363832e-02, -5.98414779e-01, -1.46906778e-01,  1.14928983e-01,\n",
       "       -4.83408362e-01, -9.51682702e-02, -1.90167412e-01, -8.82834792e-01,\n",
       "        2.71739572e-01,  1.12902477e-01,  2.27206081e-01,  4.77072805e-01,\n",
       "        5.33808112e-01,  1.49678066e-01, -2.05253571e-01,  9.55553427e-02,\n",
       "       -1.48720771e-01,  2.87474334e-01,  6.13673031e-01, -6.87929034e-01,\n",
       "       -5.13797775e-02, -2.42494181e-01, -6.25452459e-01,  1.08352768e+00,\n",
       "       -4.93540227e-01,  1.88485011e-01, -2.50315964e-01, -6.77651763e-01,\n",
       "       -2.82923639e-01, -2.58104593e-01,  1.99278086e-01, -2.37669647e-02,\n",
       "       -3.15705419e-01, -4.21159446e-01,  9.81771946e-02, -3.97094488e-01,\n",
       "        5.43671986e-03, -3.75338793e-01,  2.00129420e-01, -1.72354892e-01,\n",
       "       -2.50302136e-01, -2.76313245e-01,  1.72902435e-01,  6.75642267e-02,\n",
       "        2.36472577e-01, -8.43428597e-02, -2.29249045e-01, -4.88368198e-02,\n",
       "       -3.76462460e-01,  1.57380149e-01,  1.37788296e-01,  1.22390017e-01,\n",
       "        3.53012472e-01,  5.71603894e-01,  4.14705932e-01, -1.42046809e-01,\n",
       "       -2.56655902e-01,  1.89761549e-01, -1.77739739e-01,  3.68804514e-01,\n",
       "       -1.32495582e-01, -7.12889850e-01,  7.33868062e-01, -3.29640061e-01,\n",
       "        1.30540833e-01, -4.09516871e-01, -1.92786187e-01,  2.21354082e-01,\n",
       "        9.39493030e-02, -4.79431972e-02, -1.02291808e-01,  1.75742611e-01,\n",
       "       -6.29800439e-01, -2.26461172e-01,  3.72850597e-01,  3.30584854e-01,\n",
       "        1.17998142e-02, -3.44803743e-02, -2.87297405e-02, -7.03875005e-01,\n",
       "        1.96451545e-01, -9.94786382e-01,  7.78597370e-02,  5.15917718e-01,\n",
       "        5.37654996e-01,  4.31324262e-03,  8.14908803e-01, -1.60782665e-01,\n",
       "       -3.18933696e-01, -2.15054423e-01, -1.12682626e-01, -1.48275048e-01,\n",
       "        3.06080461e-01, -1.93194225e-01,  4.08628315e-01, -3.13632250e-01,\n",
       "        1.67102933e-01, -7.11528420e-01,  3.56147289e-01,  2.76016802e-01,\n",
       "       -9.05026048e-02, -3.15398335e-01, -4.49224701e-03, -1.43170595e-01,\n",
       "       -4.21357691e-01, -4.74355996e-01, -1.83964998e-01, -3.78655165e-01,\n",
       "       -1.77351072e-01,  6.44040406e-02, -4.78162281e-02, -4.75468934e-01,\n",
       "       -2.93157727e-01,  2.77759016e-01,  2.50480950e-01, -2.06819102e-01,\n",
       "       -2.27012202e-01, -6.28521323e-01, -5.56130335e-02, -9.41614270e-01,\n",
       "        4.06465940e-02, -6.65967762e-01,  2.31555939e-01,  8.24899316e-01,\n",
       "       -1.66003659e-01,  1.33523764e-02,  2.27518126e-01, -9.67702031e-01,\n",
       "       -2.16102079e-01,  3.22832108e-01, -5.22614598e-01,  3.89862359e-01,\n",
       "       -4.11307588e-02, -3.67134400e-02, -5.02023473e-02, -4.08178627e-01,\n",
       "       -2.98101790e-02,  8.04874003e-02,  4.13840532e-01, -5.25962651e-01,\n",
       "        3.46756071e-01, -5.03305018e-01, -2.46026561e-01, -5.74593604e-01,\n",
       "        5.78816354e-01, -2.19959259e-01, -2.62016244e-02,  1.26332894e-01,\n",
       "       -3.86808813e-01,  1.03078091e+00,  2.64934480e-01, -3.17312002e-01,\n",
       "        1.50507152e+00,  7.74833500e-01,  1.13701537e-01,  3.89903188e-02,\n",
       "        1.19391087e-04,  6.10700250e-03, -4.64736205e-03,  1.72807276e-02,\n",
       "       -3.66177917e-01, -9.52183247e-01,  2.05379009e-01, -3.59642506e-03,\n",
       "        1.68276783e-02, -5.19172251e-01, -4.35349941e-01,  2.21641138e-01,\n",
       "       -6.43181801e-01, -1.15916111e-01, -2.32957006e-01, -9.60463822e-01,\n",
       "        5.50250173e-01,  2.91031659e-01, -5.26395023e-01,  6.17907882e-01,\n",
       "        4.77655709e-01,  1.10510970e-02, -5.33282399e-01, -2.21989989e-01,\n",
       "       -4.28282917e-01,  2.10190862e-01,  1.19684175e-01, -6.36825919e-01,\n",
       "        8.56786519e-02, -8.71043094e-03,  1.83693841e-01, -2.61659563e-01,\n",
       "        6.10101819e-01, -4.26999152e-01, -2.41559148e-01,  2.70361215e-01,\n",
       "        3.20443399e-02, -9.71300527e-02,  3.12059641e-01,  1.85447186e-01,\n",
       "        5.03668845e-01,  2.44714931e-01,  5.93199372e-01, -4.87595536e-02,\n",
       "       -5.63245714e-01,  3.92808199e-01, -9.38706994e-01, -8.90946507e-01,\n",
       "        3.97071421e-01,  1.31798118e-01,  3.30681771e-01,  5.86379886e-01,\n",
       "        2.69676358e-01, -7.63235390e-01,  5.70125043e-01, -2.99848467e-02,\n",
       "        3.89734685e-01,  4.54508483e-01, -4.80150610e-01,  1.02806427e-01,\n",
       "        2.65842229e-01,  2.20911932e+00, -1.11198351e-01, -4.51091230e-01,\n",
       "       -1.01366021e-01, -1.80846363e-01, -5.70727000e-03,  2.39865303e-01,\n",
       "       -1.41988872e-02,  2.70772129e-01, -1.00138925e-01,  3.24518144e-01,\n",
       "        1.97671935e-01,  6.00937843e-01, -1.15624025e-01,  2.68264472e-01,\n",
       "        5.06403558e-02,  4.72402632e-01,  2.79691994e-01, -5.01898341e-02,\n",
       "       -1.82358786e-01,  2.61489242e-01, -1.06340528e+00,  4.90782201e-01,\n",
       "        1.16240457e-01,  8.86570752e-01,  3.41667324e-01, -1.57719895e-01,\n",
       "        5.14745712e-01, -3.51494491e-01, -1.87335581e-01,  4.45058160e-02,\n",
       "       -2.49071047e-01,  4.74793524e-01,  3.72852981e-02,  7.85223320e-02,\n",
       "       -7.17141479e-02,  7.90294886e-01, -2.89221942e-01, -9.38492596e-01,\n",
       "       -1.86199665e-01, -2.89898604e-01, -6.18648469e-01,  6.53591603e-02,\n",
       "       -4.42770153e-01, -2.30120450e-01,  2.27055043e-01,  2.87358850e-01,\n",
       "        1.35645214e-02, -3.87567878e-02, -1.15380526e+00, -7.24453479e-02,\n",
       "       -5.24505734e-01, -7.00427294e-01, -5.00482678e-01, -2.02298835e-01,\n",
       "       -2.24676177e-01, -1.80029586e-01,  7.36393929e-02,  4.86142561e-02,\n",
       "       -1.97348833e-01,  8.31534564e-02,  2.77050436e-01, -9.21796501e-01,\n",
       "       -1.32518366e-01,  1.38654545e-01, -1.13003707e+00, -1.27887264e-01,\n",
       "       -9.08332765e-02, -5.41236758e-01,  1.78016707e-01, -8.57759267e-02,\n",
       "        2.97572821e-01,  2.20400974e-01, -2.54791319e-01,  3.24437857e-01,\n",
       "        1.45110071e-01, -2.26141334e-01,  6.64569020e-01,  3.63756493e-02,\n",
       "        3.46120268e-01,  4.86174047e-01, -3.24310303e-01, -3.43267739e-01,\n",
       "       -1.55910686e-01, -3.67214754e-02,  1.99880674e-01,  4.77129281e-01,\n",
       "       -3.07989389e-01, -5.57856150e-02,  3.03493351e-01, -1.05115676e+00,\n",
       "       -3.36857587e-02, -2.89480925e-01, -4.28904861e-01, -5.92026114e-02,\n",
       "       -9.00115520e-02,  2.82625318e-01, -1.57223001e-01,  5.21760046e-01,\n",
       "       -5.06991565e-01,  2.16032341e-01, -1.34546071e-01, -2.96825230e-01,\n",
       "       -5.33888400e-01,  1.56519189e-01, -5.30364931e-01, -2.20465586e-01,\n",
       "        2.92967916e-01, -7.90007830e-01, -4.10061538e-01,  5.92474341e-01,\n",
       "        6.95158184e-01,  1.76432893e-01,  3.00535619e-01, -5.09225607e-01,\n",
       "       -4.67606157e-01, -4.22042668e-01, -7.37180710e-01, -3.99910420e-01,\n",
       "        1.79972336e-01,  7.09913194e-01,  1.55148864e-01,  5.72707295e-01,\n",
       "       -1.06036544e-01,  5.14906883e-01, -3.78846854e-01, -1.30657554e-01,\n",
       "        2.33516261e-01,  6.53316081e-02,  2.83578634e-01, -1.41861513e-01,\n",
       "        2.19705269e-01, -5.05285800e-01, -2.45587490e-02, -8.37801695e-02,\n",
       "        1.17001846e-01, -7.72294641e-01,  3.02812636e-01, -4.67671782e-01,\n",
       "        6.96463287e-01,  3.67624134e-01, -3.53866398e-01, -2.05151394e-01,\n",
       "        2.19527215e-01, -8.64719599e-02,  8.29667784e-03,  6.24661207e-01,\n",
       "       -2.80713141e-01,  3.61484408e-01,  2.24789903e-01, -3.14004242e-01,\n",
       "       -3.12412173e-01,  2.85325646e-01, -1.67729035e-01, -1.96673628e-02,\n",
       "       -2.79706627e-01, -8.27165619e-02, -3.14606667e-01, -4.17360872e-01,\n",
       "        2.80217558e-01,  2.53409833e-01, -2.11104043e-02,  3.83912027e-02,\n",
       "       -7.63132721e-02, -1.58884645e-01, -4.98884678e-01,  1.89142495e-01,\n",
       "        9.22418952e-01,  2.45149493e-01,  7.78852761e-01,  6.32238388e-01,\n",
       "       -2.36883014e-02, -2.14263111e-01, -2.34562874e-01,  3.86798710e-01,\n",
       "       -9.37461197e-01, -2.93374956e-01,  3.92305970e-01, -1.10247992e-01,\n",
       "       -1.84476435e-01,  1.20910302e-01,  2.65495688e-01, -3.24287444e-01,\n",
       "       -1.14217758e-01,  1.38958290e-01,  4.28290367e-02, -3.59589577e-01,\n",
       "        3.13071795e-02,  2.65729517e-01,  3.68774861e-01,  7.22680569e-01,\n",
       "       -8.50381017e-01,  3.71861637e-01, -6.64828300e-01,  4.65196133e-01,\n",
       "        1.62643105e-01, -4.38957930e-01,  7.29906857e-02, -4.61907387e-01,\n",
       "       -2.90976673e-01,  4.42937911e-02,  4.53557432e-01,  1.37060523e-01,\n",
       "       -6.60624564e-01, -9.25941616e-02, -1.47710398e-01, -7.01349139e-01,\n",
       "       -4.21493381e-01, -7.28023410e-01, -5.43711543e-01, -4.53137547e-01,\n",
       "        2.19493225e-01, -2.45838970e-01, -3.23917061e-01, -2.30594009e-01,\n",
       "        1.22841239e-01,  6.95461035e-01, -4.91362721e-01, -6.24840930e-02,\n",
       "       -4.06023562e-01,  3.18686903e-01,  2.86000967e-01,  7.45849386e-02,\n",
       "       -1.32051751e-01,  3.45276356e-01,  4.94808197e-01,  1.50488377e-01,\n",
       "        3.16477180e-01, -2.23575905e-01, -3.01013887e-01, -8.89355958e-01,\n",
       "       -4.80464280e-01, -4.92306381e-01,  8.32313448e-02, -4.50875521e-01,\n",
       "        1.62585765e-01,  3.30685318e-01, -1.35430306e-01,  8.62876028e-02,\n",
       "        6.10615969e-01,  1.91757903e-01,  5.03923833e-01,  7.56631672e-01,\n",
       "        1.47049814e-01, -1.45625845e-01,  1.37649532e-02, -4.04950142e-01,\n",
       "        6.33685887e-01, -4.94718563e-07, -4.14864928e-01, -3.96282136e-01,\n",
       "       -5.07369816e-01, -4.67227221e-01,  5.05826287e-02, -2.50954092e-01,\n",
       "       -2.08197445e-01,  8.48006725e-01,  6.61558732e-02,  8.05305317e-02,\n",
       "       -1.07412353e-01, -4.90141958e-01,  7.78942108e-01, -5.25884628e-01,\n",
       "        2.40202501e-01,  2.18232900e-01,  3.52602303e-01, -4.03344542e-01,\n",
       "        1.68688267e-01,  1.64675117e-02,  1.47610933e-01,  1.90383941e-01,\n",
       "       -6.91078544e-01,  3.66177142e-01,  1.40060619e-01,  8.21350753e-01,\n",
       "       -8.68977189e-01,  9.94609520e-02, -6.20144665e-01,  5.62257648e-01,\n",
       "       -2.21459582e-01, -2.53239274e-01, -3.04468758e-02,  9.16174427e-02,\n",
       "        3.05049211e-01, -3.44448119e-01,  4.68614906e-01, -2.37405807e-01,\n",
       "        3.83916885e-01, -1.77514628e-01,  1.46627754e-01, -5.57831943e-01,\n",
       "        1.83721446e-03, -2.21024364e-01,  2.15159804e-01, -4.18287665e-01,\n",
       "       -1.70082539e-01, -2.88491309e-01, -5.41809062e-03, -1.14139773e-01,\n",
       "       -7.16881678e-02, -3.25524747e-01, -1.99906036e-01, -5.99278927e-01,\n",
       "       -1.33087605e-01, -3.87806654e-01, -3.91350091e-02,  3.95052135e-01,\n",
       "       -2.64611661e-01, -1.67998761e-01,  2.47074574e-01, -3.98021609e-01,\n",
       "       -2.12981671e-01,  3.57546479e-01, -2.72895664e-01,  9.76263806e-02,\n",
       "        4.92147624e-01, -5.53712174e-02,  2.12052181e-01, -3.02817434e-01,\n",
       "       -1.68490713e-03, -4.47564684e-02, -1.77370936e-01,  2.95007223e-04,\n",
       "        3.45305771e-01, -8.57251324e-03,  7.60986030e-01, -8.23901817e-02,\n",
       "       -3.93986791e-01, -6.18481413e-02, -1.03843071e-01, -2.87735276e-02,\n",
       "        4.68184859e-01, -1.05704844e-01,  5.67207634e-02, -4.22884881e-01,\n",
       "       -3.11483443e-01, -3.77202213e-01,  1.04740463e-01, -1.38288680e-02,\n",
       "        3.74472618e-01,  5.01787841e-01,  5.50620735e-01, -5.54467261e-01,\n",
       "        3.44925702e-01, -5.60380161e-01,  3.10032159e-01,  1.82523936e-01,\n",
       "        5.55963695e-01, -2.82262452e-02,  1.09838165e-01,  4.33125824e-01,\n",
       "        8.00384507e-02,  4.68361750e-02,  1.95749223e-01,  3.81620973e-02,\n",
       "        1.91604108e-01, -3.25432479e-01, -4.56990778e-01, -3.62159669e-01,\n",
       "       -3.97851318e-01, -1.83048859e-01, -3.04144531e-01, -2.80045688e-01,\n",
       "       -1.45504445e-01,  5.29348969e-01, -9.10831809e-01, -4.17564631e-01,\n",
       "       -2.75755256e-01,  3.58576626e-01, -2.70869851e-01, -6.75146431e-02,\n",
       "       -2.59400696e-01, -2.08412260e-01,  4.04886186e-01, -9.80974555e-01,\n",
       "        1.06355488e-01,  5.91396466e-02, -1.75829858e-01, -5.99175692e-03,\n",
       "        3.80826205e-01, -4.12534624e-01,  2.07387879e-01, -1.89143479e-01,\n",
       "       -7.05639362e-01, -1.13777183e-01, -3.81408513e-01, -1.36342868e-01,\n",
       "        6.56739324e-02,  4.49466377e-01,  5.18638253e-01,  4.20389809e-02,\n",
       "        3.82841766e-01,  1.85979754e-01,  1.68130130e-01,  5.32835443e-03,\n",
       "       -4.21218723e-01, -2.10997581e-01, -1.38789713e-01,  3.29049885e-01,\n",
       "        3.55454355e-01, -2.59637058e-01,  2.17080802e-01,  5.29463768e-01,\n",
       "        6.59617066e-01,  3.69093359e-01,  1.27219021e-01,  6.13890350e-01,\n",
       "        4.43653494e-01,  9.71971005e-02, -1.68927684e-01, -3.56561363e-01,\n",
       "       -3.40001911e-01,  1.44897133e-01,  2.25798994e-01, -2.24676520e-01,\n",
       "       -5.56114316e-02,  4.55000326e-02, -4.37340260e-01, -4.14947808e-01,\n",
       "       -4.28721914e-03,  5.00026166e-01,  4.32895750e-01, -7.48653352e-01],\n",
       "      dtype=float32)"
      ]
     },
     "execution_count": 5,
     "metadata": {},
     "output_type": "execute_result"
    }
   ],
   "source": [
    "model.encode('안녕하세요')"
   ]
  },
  {
   "cell_type": "code",
   "execution_count": 11,
   "id": "42c1e342-0480-4240-97f1-4f1e5a78879b",
   "metadata": {},
   "outputs": [
    {
     "data": {
      "text/plain": [
       "array([[0.54081744]], dtype=float32)"
      ]
     },
     "execution_count": 11,
     "metadata": {},
     "output_type": "execute_result"
    }
   ],
   "source": [
    "hi1 = model.encode('출근했어요')\n",
    "hi2 = model.encode('퇴근하세요')\n",
    "cosine_similarity([hi1], [hi2])"
   ]
  },
  {
   "cell_type": "code",
   "execution_count": 13,
   "id": "e175a5a0-ea99-4a55-81e7-862aabfa47a8",
   "metadata": {
    "collapsed": true,
    "jupyter": {
     "outputs_hidden": true
    }
   },
   "outputs": [
    {
     "data": {
      "text/html": [
       "<div>\n",
       "<style scoped>\n",
       "    .dataframe tbody tr th:only-of-type {\n",
       "        vertical-align: middle;\n",
       "    }\n",
       "\n",
       "    .dataframe tbody tr th {\n",
       "        vertical-align: top;\n",
       "    }\n",
       "\n",
       "    .dataframe thead th {\n",
       "        text-align: right;\n",
       "    }\n",
       "</style>\n",
       "<table border=\"1\" class=\"dataframe\">\n",
       "  <thead>\n",
       "    <tr style=\"text-align: right;\">\n",
       "      <th></th>\n",
       "      <th>구분</th>\n",
       "      <th>유저</th>\n",
       "      <th>챗봇</th>\n",
       "      <th>Unnamed: 3</th>\n",
       "    </tr>\n",
       "  </thead>\n",
       "  <tbody>\n",
       "    <tr>\n",
       "      <th>0</th>\n",
       "      <td>감정/감정조절이상</td>\n",
       "      <td>제 감정이 이상해진 것 같아요. 남편만 보면 화가 치밀어 오르고 감정 조절이 안되요.</td>\n",
       "      <td>감정이 조절이 안 될 때만큼 힘들 때는 없는 거 같아요.</td>\n",
       "      <td>NaN</td>\n",
       "    </tr>\n",
       "    <tr>\n",
       "      <th>1</th>\n",
       "      <td>감정/감정조절이상</td>\n",
       "      <td>더 이상 내 감정을 내가 컨트롤 못 하겠어.</td>\n",
       "      <td>저도 그 기분 이해해요. 많이 힘드시죠?</td>\n",
       "      <td>NaN</td>\n",
       "    </tr>\n",
       "    <tr>\n",
       "      <th>2</th>\n",
       "      <td>감정/감정조절이상</td>\n",
       "      <td>하루종일 오르락내리락 롤러코스터 타는 기분이에요.</td>\n",
       "      <td>그럴 때는 밥은 잘 먹었는지, 잠은 잘 잤는지 체크해보는 것도 좋아요.</td>\n",
       "      <td>NaN</td>\n",
       "    </tr>\n",
       "    <tr>\n",
       "      <th>3</th>\n",
       "      <td>감정/감정조절이상</td>\n",
       "      <td>꼭 롤러코스터 타는 것 같아요.</td>\n",
       "      <td>NaN</td>\n",
       "      <td>NaN</td>\n",
       "    </tr>\n",
       "    <tr>\n",
       "      <th>4</th>\n",
       "      <td>감정/감정조절이상</td>\n",
       "      <td>롤러코스터 타는 것처럼 기분이 왔다 갔다 해요.</td>\n",
       "      <td>NaN</td>\n",
       "      <td>NaN</td>\n",
       "    </tr>\n",
       "    <tr>\n",
       "      <th>5</th>\n",
       "      <td>감정/감정조절이상</td>\n",
       "      <td>작년 가을부터 감정조절이 잘 안 되는 거 같아.</td>\n",
       "      <td>NaN</td>\n",
       "      <td>NaN</td>\n",
       "    </tr>\n",
       "    <tr>\n",
       "      <th>6</th>\n",
       "      <td>감정/감정조절이상</td>\n",
       "      <td>예전에 비해서 인내심이 너무 짧아진 거 같아.</td>\n",
       "      <td>NaN</td>\n",
       "      <td>NaN</td>\n",
       "    </tr>\n",
       "    <tr>\n",
       "      <th>7</th>\n",
       "      <td>감정/감정조절이상</td>\n",
       "      <td>더 이상 혼자서는 감정조절을 못하겠어.</td>\n",
       "      <td>NaN</td>\n",
       "      <td>NaN</td>\n",
       "    </tr>\n",
       "    <tr>\n",
       "      <th>8</th>\n",
       "      <td>감정/감정조절이상</td>\n",
       "      <td>점점 나 자신을 컨트롤하지 못하는 기분이야.</td>\n",
       "      <td>NaN</td>\n",
       "      <td>NaN</td>\n",
       "    </tr>\n",
       "    <tr>\n",
       "      <th>9</th>\n",
       "      <td>감정/감정조절이상</td>\n",
       "      <td>나도 이러기 싫은데 내 마음대로 안돼.</td>\n",
       "      <td>NaN</td>\n",
       "      <td>NaN</td>\n",
       "    </tr>\n",
       "  </tbody>\n",
       "</table>\n",
       "</div>"
      ],
      "text/plain": [
       "          구분                                               유저  \\\n",
       "0  감정/감정조절이상  제 감정이 이상해진 것 같아요. 남편만 보면 화가 치밀어 오르고 감정 조절이 안되요.   \n",
       "1  감정/감정조절이상                         더 이상 내 감정을 내가 컨트롤 못 하겠어.   \n",
       "2  감정/감정조절이상                      하루종일 오르락내리락 롤러코스터 타는 기분이에요.   \n",
       "3  감정/감정조절이상                                꼭 롤러코스터 타는 것 같아요.   \n",
       "4  감정/감정조절이상                       롤러코스터 타는 것처럼 기분이 왔다 갔다 해요.   \n",
       "5  감정/감정조절이상                       작년 가을부터 감정조절이 잘 안 되는 거 같아.   \n",
       "6  감정/감정조절이상                        예전에 비해서 인내심이 너무 짧아진 거 같아.   \n",
       "7  감정/감정조절이상                            더 이상 혼자서는 감정조절을 못하겠어.   \n",
       "8  감정/감정조절이상                         점점 나 자신을 컨트롤하지 못하는 기분이야.   \n",
       "9  감정/감정조절이상                            나도 이러기 싫은데 내 마음대로 안돼.   \n",
       "\n",
       "                                        챗봇  Unnamed: 3  \n",
       "0          감정이 조절이 안 될 때만큼 힘들 때는 없는 거 같아요.         NaN  \n",
       "1                   저도 그 기분 이해해요. 많이 힘드시죠?         NaN  \n",
       "2  그럴 때는 밥은 잘 먹었는지, 잠은 잘 잤는지 체크해보는 것도 좋아요.         NaN  \n",
       "3                                      NaN         NaN  \n",
       "4                                      NaN         NaN  \n",
       "5                                      NaN         NaN  \n",
       "6                                      NaN         NaN  \n",
       "7                                      NaN         NaN  \n",
       "8                                      NaN         NaN  \n",
       "9                                      NaN         NaN  "
      ]
     },
     "execution_count": 13,
     "metadata": {},
     "output_type": "execute_result"
    }
   ],
   "source": [
    "df = pd.read_csv('https://raw.githubusercontent.com/kairess/mental-health-chatbot/master/wellness_dataset_original.csv')\n",
    "df.head(10)"
   ]
  },
  {
   "cell_type": "code",
   "execution_count": 15,
   "id": "e5b9fcb1-ba12-4e3a-9f46-6e2cc2eb3b2e",
   "metadata": {
    "collapsed": true,
    "jupyter": {
     "outputs_hidden": true
    }
   },
   "outputs": [
    {
     "data": {
      "text/html": [
       "<div>\n",
       "<style scoped>\n",
       "    .dataframe tbody tr th:only-of-type {\n",
       "        vertical-align: middle;\n",
       "    }\n",
       "\n",
       "    .dataframe tbody tr th {\n",
       "        vertical-align: top;\n",
       "    }\n",
       "\n",
       "    .dataframe thead th {\n",
       "        text-align: right;\n",
       "    }\n",
       "</style>\n",
       "<table border=\"1\" class=\"dataframe\">\n",
       "  <thead>\n",
       "    <tr style=\"text-align: right;\">\n",
       "      <th></th>\n",
       "      <th>구분</th>\n",
       "      <th>유저</th>\n",
       "      <th>챗봇</th>\n",
       "    </tr>\n",
       "  </thead>\n",
       "  <tbody>\n",
       "    <tr>\n",
       "      <th>0</th>\n",
       "      <td>감정/감정조절이상</td>\n",
       "      <td>제 감정이 이상해진 것 같아요. 남편만 보면 화가 치밀어 오르고 감정 조절이 안되요.</td>\n",
       "      <td>감정이 조절이 안 될 때만큼 힘들 때는 없는 거 같아요.</td>\n",
       "    </tr>\n",
       "    <tr>\n",
       "      <th>1</th>\n",
       "      <td>감정/감정조절이상</td>\n",
       "      <td>더 이상 내 감정을 내가 컨트롤 못 하겠어.</td>\n",
       "      <td>저도 그 기분 이해해요. 많이 힘드시죠?</td>\n",
       "    </tr>\n",
       "    <tr>\n",
       "      <th>2</th>\n",
       "      <td>감정/감정조절이상</td>\n",
       "      <td>하루종일 오르락내리락 롤러코스터 타는 기분이에요.</td>\n",
       "      <td>그럴 때는 밥은 잘 먹었는지, 잠은 잘 잤는지 체크해보는 것도 좋아요.</td>\n",
       "    </tr>\n",
       "    <tr>\n",
       "      <th>3</th>\n",
       "      <td>감정/감정조절이상</td>\n",
       "      <td>꼭 롤러코스터 타는 것 같아요.</td>\n",
       "      <td>NaN</td>\n",
       "    </tr>\n",
       "    <tr>\n",
       "      <th>4</th>\n",
       "      <td>감정/감정조절이상</td>\n",
       "      <td>롤러코스터 타는 것처럼 기분이 왔다 갔다 해요.</td>\n",
       "      <td>NaN</td>\n",
       "    </tr>\n",
       "  </tbody>\n",
       "</table>\n",
       "</div>"
      ],
      "text/plain": [
       "          구분                                               유저  \\\n",
       "0  감정/감정조절이상  제 감정이 이상해진 것 같아요. 남편만 보면 화가 치밀어 오르고 감정 조절이 안되요.   \n",
       "1  감정/감정조절이상                         더 이상 내 감정을 내가 컨트롤 못 하겠어.   \n",
       "2  감정/감정조절이상                      하루종일 오르락내리락 롤러코스터 타는 기분이에요.   \n",
       "3  감정/감정조절이상                                꼭 롤러코스터 타는 것 같아요.   \n",
       "4  감정/감정조절이상                       롤러코스터 타는 것처럼 기분이 왔다 갔다 해요.   \n",
       "\n",
       "                                        챗봇  \n",
       "0          감정이 조절이 안 될 때만큼 힘들 때는 없는 거 같아요.  \n",
       "1                   저도 그 기분 이해해요. 많이 힘드시죠?  \n",
       "2  그럴 때는 밥은 잘 먹었는지, 잠은 잘 잤는지 체크해보는 것도 좋아요.  \n",
       "3                                      NaN  \n",
       "4                                      NaN  "
      ]
     },
     "execution_count": 15,
     "metadata": {},
     "output_type": "execute_result"
    }
   ],
   "source": [
    "df = df.drop(columns=['Unnamed: 3'])\n",
    "df.head()"
   ]
  },
  {
   "cell_type": "code",
   "execution_count": 16,
   "id": "47108586-6265-495a-bdd6-bded27a86f33",
   "metadata": {
    "collapsed": true,
    "jupyter": {
     "outputs_hidden": true
    }
   },
   "outputs": [
    {
     "data": {
      "text/html": [
       "<div>\n",
       "<style scoped>\n",
       "    .dataframe tbody tr th:only-of-type {\n",
       "        vertical-align: middle;\n",
       "    }\n",
       "\n",
       "    .dataframe tbody tr th {\n",
       "        vertical-align: top;\n",
       "    }\n",
       "\n",
       "    .dataframe thead th {\n",
       "        text-align: right;\n",
       "    }\n",
       "</style>\n",
       "<table border=\"1\" class=\"dataframe\">\n",
       "  <thead>\n",
       "    <tr style=\"text-align: right;\">\n",
       "      <th></th>\n",
       "      <th>구분</th>\n",
       "      <th>유저</th>\n",
       "      <th>챗봇</th>\n",
       "    </tr>\n",
       "  </thead>\n",
       "  <tbody>\n",
       "    <tr>\n",
       "      <th>0</th>\n",
       "      <td>감정/감정조절이상</td>\n",
       "      <td>제 감정이 이상해진 것 같아요. 남편만 보면 화가 치밀어 오르고 감정 조절이 안되요.</td>\n",
       "      <td>감정이 조절이 안 될 때만큼 힘들 때는 없는 거 같아요.</td>\n",
       "    </tr>\n",
       "    <tr>\n",
       "      <th>1</th>\n",
       "      <td>감정/감정조절이상</td>\n",
       "      <td>더 이상 내 감정을 내가 컨트롤 못 하겠어.</td>\n",
       "      <td>저도 그 기분 이해해요. 많이 힘드시죠?</td>\n",
       "    </tr>\n",
       "    <tr>\n",
       "      <th>2</th>\n",
       "      <td>감정/감정조절이상</td>\n",
       "      <td>하루종일 오르락내리락 롤러코스터 타는 기분이에요.</td>\n",
       "      <td>그럴 때는 밥은 잘 먹었는지, 잠은 잘 잤는지 체크해보는 것도 좋아요.</td>\n",
       "    </tr>\n",
       "    <tr>\n",
       "      <th>15</th>\n",
       "      <td>감정/감정조절이상/화</td>\n",
       "      <td>평소 다른 일을 할 때도 비슷해요. 생각한대로 안되면 화가 나고…그런 상황이 지속되...</td>\n",
       "      <td>화가 폭발할 것 같을 때는 그 자리를 피하는 것도 좋은 방법이라고 생각해요.</td>\n",
       "    </tr>\n",
       "    <tr>\n",
       "      <th>16</th>\n",
       "      <td>감정/감정조절이상/화</td>\n",
       "      <td>예전보다 화내는 게 과격해진 거 같아.</td>\n",
       "      <td>정말 힘드시겠어요. 화는 남에게도 스스로에게도 상처를 주잖아요.</td>\n",
       "    </tr>\n",
       "  </tbody>\n",
       "</table>\n",
       "</div>"
      ],
      "text/plain": [
       "             구분                                                 유저  \\\n",
       "0     감정/감정조절이상    제 감정이 이상해진 것 같아요. 남편만 보면 화가 치밀어 오르고 감정 조절이 안되요.   \n",
       "1     감정/감정조절이상                           더 이상 내 감정을 내가 컨트롤 못 하겠어.   \n",
       "2     감정/감정조절이상                        하루종일 오르락내리락 롤러코스터 타는 기분이에요.   \n",
       "15  감정/감정조절이상/화  평소 다른 일을 할 때도 비슷해요. 생각한대로 안되면 화가 나고…그런 상황이 지속되...   \n",
       "16  감정/감정조절이상/화                              예전보다 화내는 게 과격해진 거 같아.   \n",
       "\n",
       "                                            챗봇  \n",
       "0              감정이 조절이 안 될 때만큼 힘들 때는 없는 거 같아요.  \n",
       "1                       저도 그 기분 이해해요. 많이 힘드시죠?  \n",
       "2      그럴 때는 밥은 잘 먹었는지, 잠은 잘 잤는지 체크해보는 것도 좋아요.  \n",
       "15  화가 폭발할 것 같을 때는 그 자리를 피하는 것도 좋은 방법이라고 생각해요.  \n",
       "16         정말 힘드시겠어요. 화는 남에게도 스스로에게도 상처를 주잖아요.  "
      ]
     },
     "execution_count": 16,
     "metadata": {},
     "output_type": "execute_result"
    }
   ],
   "source": [
    "df = df.dropna()\n",
    "df.head()"
   ]
  },
  {
   "cell_type": "code",
   "execution_count": 17,
   "id": "3b093aec-375f-424c-b21a-e5b9e62d855c",
   "metadata": {},
   "outputs": [
    {
     "data": {
      "text/plain": [
       "'제 감정이 이상해진 것 같아요. 남편만 보면 화가 치밀어 오르고 감정 조절이 안되요.'"
      ]
     },
     "execution_count": 17,
     "metadata": {},
     "output_type": "execute_result"
    }
   ],
   "source": [
    "df.loc[0, '유저']"
   ]
  },
  {
   "cell_type": "code",
   "execution_count": 21,
   "id": "a7ceb7f1-8e14-4270-a528-d7ce6267ab97",
   "metadata": {},
   "outputs": [
    {
     "data": {
      "text/html": [
       "<div>\n",
       "<style scoped>\n",
       "    .dataframe tbody tr th:only-of-type {\n",
       "        vertical-align: middle;\n",
       "    }\n",
       "\n",
       "    .dataframe tbody tr th {\n",
       "        vertical-align: top;\n",
       "    }\n",
       "\n",
       "    .dataframe thead th {\n",
       "        text-align: right;\n",
       "    }\n",
       "</style>\n",
       "<table border=\"1\" class=\"dataframe\">\n",
       "  <thead>\n",
       "    <tr style=\"text-align: right;\">\n",
       "      <th></th>\n",
       "      <th>구분</th>\n",
       "      <th>유저</th>\n",
       "      <th>챗봇</th>\n",
       "      <th>embedding</th>\n",
       "    </tr>\n",
       "  </thead>\n",
       "  <tbody>\n",
       "    <tr>\n",
       "      <th>0</th>\n",
       "      <td>감정/감정조절이상</td>\n",
       "      <td>제 감정이 이상해진 것 같아요. 남편만 보면 화가 치밀어 오르고 감정 조절이 안되요.</td>\n",
       "      <td>감정이 조절이 안 될 때만큼 힘들 때는 없는 거 같아요.</td>\n",
       "      <td>[-0.48060635, -0.294869, 0.43789992, -0.640137...</td>\n",
       "    </tr>\n",
       "    <tr>\n",
       "      <th>1</th>\n",
       "      <td>감정/감정조절이상</td>\n",
       "      <td>더 이상 내 감정을 내가 컨트롤 못 하겠어.</td>\n",
       "      <td>저도 그 기분 이해해요. 많이 힘드시죠?</td>\n",
       "      <td>[-1.1561576, -0.14506273, 0.29490316, -0.67394...</td>\n",
       "    </tr>\n",
       "    <tr>\n",
       "      <th>2</th>\n",
       "      <td>감정/감정조절이상</td>\n",
       "      <td>하루종일 오르락내리락 롤러코스터 타는 기분이에요.</td>\n",
       "      <td>그럴 때는 밥은 잘 먹었는지, 잠은 잘 잤는지 체크해보는 것도 좋아요.</td>\n",
       "      <td>[-0.6652002, -0.08126854, 1.0945567, 0.1057918...</td>\n",
       "    </tr>\n",
       "    <tr>\n",
       "      <th>15</th>\n",
       "      <td>감정/감정조절이상/화</td>\n",
       "      <td>평소 다른 일을 할 때도 비슷해요. 생각한대로 안되면 화가 나고…그런 상황이 지속되...</td>\n",
       "      <td>화가 폭발할 것 같을 때는 그 자리를 피하는 것도 좋은 방법이라고 생각해요.</td>\n",
       "      <td>[-0.76790595, 0.46520725, 0.52850693, -0.50760...</td>\n",
       "    </tr>\n",
       "    <tr>\n",
       "      <th>16</th>\n",
       "      <td>감정/감정조절이상/화</td>\n",
       "      <td>예전보다 화내는 게 과격해진 거 같아.</td>\n",
       "      <td>정말 힘드시겠어요. 화는 남에게도 스스로에게도 상처를 주잖아요.</td>\n",
       "      <td>[-0.20277727, -0.37413913, 0.04053207, -0.8624...</td>\n",
       "    </tr>\n",
       "  </tbody>\n",
       "</table>\n",
       "</div>"
      ],
      "text/plain": [
       "             구분                                                 유저  \\\n",
       "0     감정/감정조절이상    제 감정이 이상해진 것 같아요. 남편만 보면 화가 치밀어 오르고 감정 조절이 안되요.   \n",
       "1     감정/감정조절이상                           더 이상 내 감정을 내가 컨트롤 못 하겠어.   \n",
       "2     감정/감정조절이상                        하루종일 오르락내리락 롤러코스터 타는 기분이에요.   \n",
       "15  감정/감정조절이상/화  평소 다른 일을 할 때도 비슷해요. 생각한대로 안되면 화가 나고…그런 상황이 지속되...   \n",
       "16  감정/감정조절이상/화                              예전보다 화내는 게 과격해진 거 같아.   \n",
       "\n",
       "                                            챗봇  \\\n",
       "0              감정이 조절이 안 될 때만큼 힘들 때는 없는 거 같아요.   \n",
       "1                       저도 그 기분 이해해요. 많이 힘드시죠?   \n",
       "2      그럴 때는 밥은 잘 먹었는지, 잠은 잘 잤는지 체크해보는 것도 좋아요.   \n",
       "15  화가 폭발할 것 같을 때는 그 자리를 피하는 것도 좋은 방법이라고 생각해요.   \n",
       "16         정말 힘드시겠어요. 화는 남에게도 스스로에게도 상처를 주잖아요.   \n",
       "\n",
       "                                            embedding  \n",
       "0   [-0.48060635, -0.294869, 0.43789992, -0.640137...  \n",
       "1   [-1.1561576, -0.14506273, 0.29490316, -0.67394...  \n",
       "2   [-0.6652002, -0.08126854, 1.0945567, 0.1057918...  \n",
       "15  [-0.76790595, 0.46520725, 0.52850693, -0.50760...  \n",
       "16  [-0.20277727, -0.37413913, 0.04053207, -0.8624...  "
      ]
     },
     "execution_count": 21,
     "metadata": {},
     "output_type": "execute_result"
    }
   ],
   "source": [
    "df['embedding'] = pd.Series([[]] *len(df))\n",
    "df['embedding'] = df['유저'].map(lambda x: list(model.encode(x)))\n",
    "\n",
    "df.head()"
   ]
  },
  {
   "cell_type": "code",
   "execution_count": 23,
   "id": "eca5c6a9-3129-41d0-b523-2a31a20c9208",
   "metadata": {
    "collapsed": true,
    "jupyter": {
     "outputs_hidden": true
    }
   },
   "outputs": [
    {
     "data": {
      "text/plain": [
       "array([-4.93704349e-01, -2.08184466e-01,  1.17101395e+00, -4.98832643e-01,\n",
       "       -1.64417505e-01, -5.38852327e-02,  2.45224074e-01,  7.77709603e-01,\n",
       "       -3.31876695e-01, -1.00653565e+00,  1.90880939e-01, -2.16061160e-01,\n",
       "       -3.91820014e-01,  1.67661428e-01,  1.54347224e-02, -1.42715856e-01,\n",
       "        1.79138988e-01, -3.43144208e-01,  5.10475561e-02, -1.27752268e+00,\n",
       "       -3.92421067e-01,  2.18511537e-01, -1.31011412e-01,  2.93384135e-01,\n",
       "       -4.28837836e-01, -2.30281483e-02, -1.43407315e-01, -1.20256729e-01,\n",
       "       -8.43623877e-02,  4.08835471e-01,  4.93698627e-01, -5.80354810e-01,\n",
       "       -6.87678277e-01, -8.73813093e-01,  1.43822938e-01,  1.64616212e-01,\n",
       "       -2.77798772e-01, -3.61004651e-01, -5.97261131e-01, -2.93383658e-01,\n",
       "       -3.87803048e-01, -3.17778975e-01, -3.65063250e-01, -4.52248976e-02,\n",
       "       -2.99140453e-01, -1.33326268e+00, -9.28701162e-02,  3.42805795e-02,\n",
       "       -4.67265904e-01, -5.07497415e-02, -3.37177753e-01, -1.50338337e-01,\n",
       "        4.68706191e-01,  2.86049396e-01,  8.24149489e-01,  5.78626513e-01,\n",
       "       -2.12197736e-01, -4.66742478e-02, -1.33380622e-01, -9.38945934e-02,\n",
       "        2.60983706e-02, -5.99051297e-01,  8.95361826e-02,  5.19443572e-01,\n",
       "       -6.55074641e-02,  2.36720294e-02,  8.75344649e-02,  6.33763313e-01,\n",
       "       -7.27297246e-01,  2.49246985e-01, -4.52962548e-01,  2.88135678e-01,\n",
       "       -8.45080242e-02, -1.54950425e-01, -2.49009337e-02, -4.63204421e-02,\n",
       "       -3.98986101e-01,  8.33425939e-01,  7.16179967e-01,  6.46309018e-01,\n",
       "        1.56017259e-01, -2.39522353e-01,  9.41102877e-02,  2.01958984e-01,\n",
       "        1.28018856e-01, -4.43501413e-01,  3.87576252e-01,  4.94224519e-01,\n",
       "       -2.38480836e-01,  2.43441701e-01,  4.14168313e-02, -1.31901186e-02,\n",
       "       -4.69770849e-01, -7.54717410e-01,  8.67473409e-02,  8.01456809e-01,\n",
       "        7.42651895e-02,  3.32384288e-01, -1.14915535e-01,  5.25952458e-01,\n",
       "       -1.40015736e-01, -1.89139992e-01, -4.14478391e-01,  2.57724792e-01,\n",
       "        2.65001863e-01, -1.70588508e-01, -7.50133395e-02,  1.36725694e-01,\n",
       "        2.98104465e-01, -4.42694664e-01, -5.32144368e-01,  7.43677234e-03,\n",
       "        1.29733652e-01, -1.48770601e-01,  1.09905429e-01, -2.29509458e-01,\n",
       "       -2.12945297e-01, -1.22019090e-01,  2.99535543e-01, -4.74222183e-01,\n",
       "        6.46290362e-01,  3.81661393e-02, -7.33332857e-02, -6.53654635e-01,\n",
       "        7.36613423e-02, -3.60660464e-01,  4.06261891e-01,  7.51962781e-01,\n",
       "       -2.89703816e-01, -2.00723737e-01,  1.48273692e-01, -1.52572662e-01,\n",
       "        6.89448565e-02, -5.97227275e-01,  4.20271372e-03,  6.65134043e-02,\n",
       "        8.38412121e-02, -6.84533238e-01, -1.90064073e-01, -8.60542431e-02,\n",
       "       -4.91434872e-01,  4.27214950e-01, -2.80162804e-02, -4.23049271e-01,\n",
       "       -3.19251776e-01, -1.06693529e-01, -1.99353263e-01,  5.13502285e-02,\n",
       "        2.93416023e-01,  1.13560101e-02, -4.06639069e-01, -2.03805100e-02,\n",
       "        3.89536709e-01,  7.32932627e-01,  3.89528066e-01, -8.31279814e-01,\n",
       "        8.64896700e-02,  4.72617477e-01,  1.55990168e-01, -1.93503425e-01,\n",
       "       -3.20290029e-01,  2.32633188e-01, -6.13462508e-01,  3.73305649e-01,\n",
       "        8.67815223e-03,  5.93858778e-01,  1.22646570e-01,  2.44271457e-02,\n",
       "        8.22037831e-02, -2.09120959e-01,  3.74090523e-01, -3.40578407e-01,\n",
       "       -7.66642997e-03, -9.56960768e-02,  3.89718264e-01,  5.53326190e-01,\n",
       "        1.17874801e+00, -1.48171410e-01,  1.72225863e-01, -1.76643834e-01,\n",
       "       -3.67879391e-01,  7.01297447e-02,  2.90973693e-01,  1.42823234e-01,\n",
       "        7.25585371e-02, -1.44994393e-01,  1.78669453e-01, -1.70210987e-01,\n",
       "        8.69421437e-02,  4.40694660e-01,  5.52645385e-01, -3.23456496e-01,\n",
       "       -1.94536060e-01, -3.78974706e-01,  1.19847156e-01, -3.99991781e-01,\n",
       "        2.38834605e-01,  1.17466137e-01, -2.17405453e-01,  3.27253193e-01,\n",
       "       -5.78455806e-01, -5.59450448e-01, -4.83067214e-01, -6.58900857e-01,\n",
       "        4.49068725e-01, -6.46789372e-01,  4.28026989e-02,  3.11273873e-01,\n",
       "        1.00155532e+00,  2.77258903e-01, -5.22498786e-01,  2.85687029e-01,\n",
       "       -1.74729243e-01,  7.99059123e-02, -5.08228362e-01, -5.54992974e-01,\n",
       "       -1.68422133e-01,  4.64019217e-02,  5.81187189e-01, -3.37763101e-01,\n",
       "       -2.73726046e-01, -4.83881384e-01, -1.77844360e-01, -2.69441903e-02,\n",
       "       -2.23610610e-01,  6.25294670e-02,  4.38827038e-01, -7.30434597e-01,\n",
       "        2.52361685e-01,  1.69069961e-01, -2.48179913e-01, -4.61033821e-01,\n",
       "        1.20088518e-01, -3.84827137e-01, -5.54869771e-02,  1.34004861e-01,\n",
       "       -8.60191435e-02,  1.11730702e-01, -1.57679960e-01, -3.91632468e-01,\n",
       "       -1.76004186e-01,  3.06400776e-01, -3.76129389e-01,  8.47619772e-02,\n",
       "        1.75149441e-01,  5.10205626e-01, -4.85918313e-01, -1.23672390e+00,\n",
       "        7.58265853e-01, -3.38186115e-01, -3.93630773e-01, -8.81882086e-02,\n",
       "       -2.72028744e-01,  1.05427757e-01,  1.81657746e-01, -2.16840848e-01,\n",
       "        5.21442771e-01,  8.19552690e-02,  8.80792677e-01, -6.27399266e-01,\n",
       "        5.45424521e-01,  3.12732421e-02, -5.98269105e-01,  1.20643616e-01,\n",
       "       -1.22858085e-01,  1.49583727e-01, -5.37276566e-01, -8.79054010e-01,\n",
       "       -4.09402221e-01,  5.06668687e-01,  5.72526082e-02, -3.33937496e-01,\n",
       "        5.76436341e-01, -2.54138619e-01, -2.44372748e-02,  1.21989734e-01,\n",
       "        1.03562936e-01,  7.92951167e-01, -1.38530180e-01, -3.58156949e-01,\n",
       "        4.59144324e-01,  5.81498265e-01, -5.16467988e-02, -9.21171904e-02,\n",
       "       -1.06600928e+00,  7.23653972e-01, -1.27762780e-01,  3.11916828e-01,\n",
       "       -1.90069944e-01,  2.87075281e-01, -4.33240503e-01,  5.26329041e-01,\n",
       "        2.35482961e-01, -1.37365067e+00,  7.81119883e-01,  4.33334023e-01,\n",
       "        5.30588627e-01, -4.05678362e-01, -2.75627881e-01,  4.61330079e-02,\n",
       "        1.50111407e-01,  9.58106518e-01, -6.98074758e-01, -1.26594484e-01,\n",
       "       -9.95800078e-01,  6.29017234e-01, -5.00666916e-01, -5.07536948e-01,\n",
       "       -3.25401351e-02,  5.78732610e-01,  3.62749249e-01, -2.24586800e-01,\n",
       "       -6.35103226e-01,  1.86641857e-01, -1.78552672e-01,  2.19714306e-02,\n",
       "        3.84955317e-01, -2.32318267e-01,  3.22714709e-02,  6.03353143e-01,\n",
       "       -3.00105125e-01, -1.82206973e-01, -2.28166789e-01, -8.54398847e-01,\n",
       "        3.80844206e-01, -5.38947761e-01, -2.38696896e-02, -9.14465129e-01,\n",
       "        6.85734391e-01,  8.00370514e-01,  5.40769041e-01,  6.42387420e-02,\n",
       "        6.08055651e-01, -7.88553596e-01, -3.78044188e-01,  1.60698131e-01,\n",
       "        1.10025629e-01,  4.03513700e-01, -1.26757488e-01, -4.46093827e-01,\n",
       "        4.06821907e-01,  4.91019100e-01, -8.40383321e-02,  2.03895345e-01,\n",
       "       -1.11801289e-01,  3.67030412e-01,  1.34338945e-01, -6.24236166e-01,\n",
       "        8.30904916e-02,  3.55188876e-01,  3.37311178e-01,  4.63085443e-01,\n",
       "        2.46509880e-01, -2.68655986e-01,  1.34731665e-01, -2.74794940e-02,\n",
       "        1.81484938e-01, -1.23539127e-01, -3.63310844e-01, -1.27280384e-01,\n",
       "        1.59332618e-01,  1.50537729e-01,  3.08958441e-01,  4.68167476e-02,\n",
       "       -1.20503895e-01,  1.09768864e-02,  3.62149090e-01,  4.71820861e-01,\n",
       "        1.53159961e-01,  4.35748190e-01,  1.42600849e-01,  2.13224694e-01,\n",
       "        8.53719190e-02, -2.07405895e-01, -1.78664073e-01,  4.94268209e-01,\n",
       "       -4.93004352e-01,  1.72175676e-01, -5.08110166e-01, -1.30809975e+00,\n",
       "        7.22934544e-01,  3.56114715e-01, -6.49627745e-01,  7.65419006e-02,\n",
       "        1.91941470e-01, -7.64513791e-01,  1.66727021e-01, -3.65979224e-01,\n",
       "        1.15356497e-01,  4.96332318e-01, -3.62251438e-02, -4.14936215e-01,\n",
       "       -6.04517281e-01,  1.55186534e-01,  1.07797623e-01,  3.45846623e-01,\n",
       "        2.32276358e-02,  8.93515125e-02,  1.78977624e-01,  1.17318995e-01,\n",
       "        1.52903795e-01,  7.62009442e-01,  3.57084692e-01, -1.74521774e-01,\n",
       "        1.21980891e-01, -2.45801643e-01,  1.35439262e-01, -3.28058988e-01,\n",
       "       -3.17045301e-01,  1.19109154e-01,  1.48442965e-02, -4.96661574e-01,\n",
       "        6.53254211e-01, -5.53371251e-01,  4.89997804e-01,  1.10957272e-01,\n",
       "       -2.00000972e-01,  3.25335562e-01,  9.18439627e-02,  4.40319479e-02,\n",
       "        5.93617976e-01, -2.69591600e-01,  5.58517218e-01,  2.10020691e-01,\n",
       "       -4.98319827e-02, -7.41091371e-02, -3.94032389e-01, -4.06781249e-02,\n",
       "       -3.82060826e-01,  5.41006029e-01, -7.67782778e-02, -1.56026199e-01,\n",
       "       -5.16448200e-01, -8.62118751e-02,  4.92537357e-02, -4.31805849e-04,\n",
       "       -3.21168184e-01,  1.48023829e-01,  1.22343861e-01,  1.93449348e-01,\n",
       "       -3.09819013e-01, -7.20964730e-01, -2.81872511e-01, -4.59016822e-02,\n",
       "        4.33850944e-01, -6.33836314e-02, -4.27975267e-01,  1.09515198e-01,\n",
       "        2.14994494e-02,  4.00138646e-01, -2.11169168e-01,  2.94131279e-01,\n",
       "        4.08323526e-01,  6.74270749e-01, -1.63240641e-01,  9.28576171e-01,\n",
       "       -2.34313011e-01, -3.66171062e-01,  1.46344915e-01,  2.43949965e-01,\n",
       "       -1.23876072e-01, -2.54568070e-01, -1.85908481e-01, -5.92778511e-02,\n",
       "       -8.53298083e-02, -8.22650939e-02,  5.13584688e-02,  2.44510263e-01,\n",
       "       -3.61016244e-01, -4.00497258e-01, -4.62237839e-03,  3.95038098e-01,\n",
       "       -6.62158132e-02,  2.84559458e-01,  6.72037423e-01,  2.61797488e-01,\n",
       "       -7.09618926e-01, -3.75102490e-01, -1.91041365e-01, -5.82581222e-01,\n",
       "        1.97877079e-01,  1.45920841e-02, -7.93654919e-02, -3.08101594e-01,\n",
       "       -2.50062883e-01, -8.99005979e-02,  2.47769922e-01, -3.02260369e-01,\n",
       "        5.18219590e-01,  1.31563559e-01, -3.96381795e-01,  5.37054874e-02,\n",
       "       -3.18095446e-01, -2.25972340e-01, -1.56268328e-02, -5.68160236e-01,\n",
       "        6.66189343e-02, -3.68604720e-01, -5.70887923e-02, -5.70441782e-01,\n",
       "       -7.92027891e-01, -2.98742235e-01,  7.64115453e-01,  4.61777970e-02,\n",
       "        1.08952723e-01,  2.32322723e-01,  2.04619154e-01, -1.83441117e-01,\n",
       "        4.08518314e-01,  1.63681999e-01, -5.57948768e-01,  2.51425933e-02,\n",
       "        3.67848761e-02, -2.02434704e-01, -2.34694734e-01,  6.70613116e-03,\n",
       "       -8.24091792e-01, -8.79356042e-02,  2.75142521e-01, -1.26196951e-01,\n",
       "       -7.47248590e-01,  3.98286581e-01, -4.02197510e-01, -2.82838613e-01,\n",
       "       -1.79377094e-01, -8.12958479e-02, -4.91820164e-02, -2.92193145e-01,\n",
       "        2.37492889e-01, -3.94950837e-01, -4.55791270e-03, -5.89619391e-02,\n",
       "        3.75789911e-01,  4.06476170e-01,  1.18003659e-01,  5.86346626e-01,\n",
       "       -2.79433634e-02, -2.83837378e-01, -2.73579746e-01,  3.89276072e-02,\n",
       "        5.23165166e-01,  2.54780740e-01,  1.96088910e-01, -2.20461681e-01,\n",
       "       -3.14146429e-01, -1.87432244e-01,  3.80148202e-01,  7.34604523e-02,\n",
       "       -1.25782415e-01, -4.91656303e-01, -2.35446617e-01, -7.57995605e-01,\n",
       "        4.54457328e-02, -2.71574140e-01,  2.27781609e-01, -2.26711720e-01,\n",
       "       -4.03458327e-01, -6.51288450e-01, -2.87083864e-01, -1.07780969e+00,\n",
       "       -9.49777722e-01, -1.64844230e-01,  6.45358041e-02, -4.56460178e-01,\n",
       "       -1.61742568e-02, -2.10703284e-01, -4.91060406e-01, -6.68119490e-02,\n",
       "        9.20419574e-01, -2.70709813e-01, -1.10464003e-02, -1.07688941e-01,\n",
       "       -9.44317698e-01, -3.90416622e-01, -8.67939591e-02,  1.81955904e-01,\n",
       "       -1.70364514e-01, -5.30556262e-01,  2.11726591e-01, -1.71965197e-01,\n",
       "        8.92730355e-02,  3.56159270e-01, -7.15707615e-02,  1.98230982e-01,\n",
       "        4.89385203e-02, -2.37574935e-01,  3.66398990e-01, -2.38487916e-03,\n",
       "       -8.44952941e-01, -6.66228533e-02,  1.43116832e-01,  1.61747083e-01,\n",
       "        3.94803174e-02,  2.32333630e-01,  5.62524319e-01, -5.88499367e-01,\n",
       "       -8.05517212e-02,  1.44907162e-01,  4.67321008e-01,  4.88699228e-01,\n",
       "       -6.57954440e-02,  1.62150964e-01,  4.19710390e-02, -2.41068006e-01,\n",
       "       -1.46476775e-01, -5.75552210e-02,  5.50064147e-01, -8.06090236e-01,\n",
       "        2.01520119e-02,  2.73647964e-01, -4.04971212e-01, -8.71740401e-01,\n",
       "       -3.73605341e-01,  1.33916929e-01, -5.08353829e-01, -8.89935866e-02,\n",
       "       -7.38549009e-02, -1.80132881e-01,  1.61576986e-01,  5.89939160e-03,\n",
       "       -2.76046395e-02,  9.92870107e-02, -5.92240214e-01,  3.17836672e-01,\n",
       "        1.50584698e-01, -7.84237459e-02, -1.43536225e-01,  5.86039603e-01,\n",
       "        9.83967781e-02,  1.55639857e-01,  8.40467587e-02, -1.29901245e-01,\n",
       "        7.52619803e-01, -2.53175527e-01,  1.71236143e-01, -3.26038659e-01,\n",
       "       -6.52952373e-01,  4.38863933e-01, -3.59225988e-01,  2.36690655e-01,\n",
       "       -8.40083137e-02, -2.50614822e-01,  2.70189375e-01, -1.06349453e-01,\n",
       "        3.79467219e-01, -3.64265501e-01, -4.60298836e-01, -2.03837976e-01,\n",
       "       -7.45266795e-01, -1.10964619e-01, -6.88601971e-01, -6.22488856e-02,\n",
       "        5.34462333e-01,  2.64039606e-01,  5.55623949e-01, -2.50834227e-01,\n",
       "       -4.76262331e-01,  1.23976052e-01,  2.42005423e-01, -1.38438642e-01,\n",
       "        4.14938062e-01,  1.59483477e-01,  6.29606068e-01,  8.79855976e-02,\n",
       "        2.03696750e-02,  2.83590734e-01, -5.22877216e-01,  5.75536370e-01,\n",
       "        3.75670493e-01, -1.38035163e-01, -2.17564240e-01, -2.68842876e-01,\n",
       "       -5.13899093e-03, -2.87689537e-01, -4.47399706e-01, -1.23240001e-01,\n",
       "        5.33976495e-01,  1.18777111e-01, -2.43780091e-01,  1.87093765e-01,\n",
       "       -2.69214571e-01,  2.44298682e-01,  6.55544400e-02,  2.85694271e-01,\n",
       "       -1.76614486e-02,  7.29607761e-01,  4.69367132e-02,  2.09977239e-01,\n",
       "        1.64202556e-01,  5.14753871e-02,  4.75592986e-02,  4.98702005e-03,\n",
       "       -3.56635571e-01,  2.68731594e-01,  3.16444546e-01,  1.14353143e-01,\n",
       "       -1.71960965e-02, -1.84895039e-01,  2.83119321e-01, -4.14153039e-02,\n",
       "       -7.95671582e-01,  2.91240633e-01,  4.75356821e-03, -2.43456513e-01,\n",
       "        5.53843200e-01, -3.70972678e-02,  2.42304519e-01, -1.34562075e-01,\n",
       "        1.09376378e-01, -3.55477810e-01, -4.20064598e-01,  1.29135594e-01,\n",
       "       -1.15180649e-01, -5.20173848e-01,  1.21807024e-01, -9.38756242e-02,\n",
       "       -1.82870477e-01,  1.48054972e-01,  3.46194476e-01, -1.00975647e-03,\n",
       "        1.75021246e-01,  1.92296295e-03, -4.42548931e-01, -5.45132756e-01,\n",
       "       -1.17452815e-01, -1.10810268e+00,  2.35174060e-01,  6.15935445e-01,\n",
       "       -1.08426046e+00, -4.26108569e-01,  3.32688898e-01, -4.26082909e-02,\n",
       "        4.74190444e-01, -5.98185360e-02,  2.48327091e-01, -2.34754920e-01,\n",
       "        4.89029586e-01,  6.39075637e-01, -2.28839085e-01, -2.94126362e-01,\n",
       "        2.47091167e-02, -1.13335542e-01, -9.31943133e-02, -6.86352909e-01,\n",
       "       -2.79290736e-01,  4.47262228e-01, -8.89190584e-02, -5.00522964e-02,\n",
       "       -2.14520559e-01, -2.75048852e-01, -2.39476785e-01, -2.58006215e-01,\n",
       "        3.12466651e-01,  1.36950776e-01, -2.24049911e-01, -3.60917777e-01,\n",
       "       -4.12806273e-01, -2.05031469e-01,  1.57932356e-01, -5.25133789e-01,\n",
       "        2.00554892e-01, -3.24908346e-01,  3.85584772e-01,  5.23751080e-01,\n",
       "        3.21676672e-01,  5.91273827e-04, -9.58833516e-01, -1.21739037e-01],\n",
       "      dtype=float32)"
      ]
     },
     "execution_count": 23,
     "metadata": {},
     "output_type": "execute_result"
    }
   ],
   "source": [
    "text = '요즘 남편이 비트코인도 하고 너무 속을 썩이네'\n",
    "embedding = model.encode(text)\n",
    "embedding"
   ]
  },
  {
   "cell_type": "code",
   "execution_count": 24,
   "id": "8c21d12c-090d-41fc-b583-18a7e2d39f9f",
   "metadata": {},
   "outputs": [],
   "source": [
    "df['similarity'] = df['embedding'].map(lambda x: cosine_similarity([embedding], [x]).squeeze())"
   ]
  },
  {
   "cell_type": "code",
   "execution_count": 30,
   "id": "790ab32f-b354-415a-9ceb-eeaff473a9fa",
   "metadata": {
    "collapsed": true,
    "jupyter": {
     "outputs_hidden": true
    },
    "scrolled": true
   },
   "outputs": [
    {
     "name": "stdout",
     "output_type": "stream",
     "text": [
      "배경/남편/갈등\n",
      "남편이랑 요즘 사이가 안 좋아요.\n",
      "남편 분과 갈등을 겪고 계시군요. 마음이 많이 상하셨겠어요.\n",
      "0.6300283670425415\n"
     ]
    }
   ],
   "source": [
    "answer = df.loc[df['similarity'].idxmax()]\n",
    "print(answer['구분'])\n",
    "print(answer['유저'])\n",
    "print(answer['챗봇'])\n",
    "print(answer['similarity'])"
   ]
  },
  {
   "cell_type": "code",
   "execution_count": null,
   "id": "83e885f0-f4ba-42d4-a4d8-6131eae7c3b1",
   "metadata": {},
   "outputs": [
    {
     "name": "stdout",
     "output_type": "stream",
     "text": [
      "Running on local URL:  http://127.0.0.1:7860\n",
      "Running on public URL: https://e4bf6123c7db6bff82.gradio.live\n",
      "\n",
      "This share link expires in 72 hours. For free permanent hosting and GPU upgrades, run `gradio deploy` from Terminal to deploy to Spaces (https://huggingface.co/spaces)\n"
     ]
    },
    {
     "data": {
      "text/html": [
       "<div><iframe src=\"https://e4bf6123c7db6bff82.gradio.live\" width=\"100%\" height=\"500\" allow=\"autoplay; camera; microphone; clipboard-read; clipboard-write;\" frameborder=\"0\" allowfullscreen></iframe></div>"
      ],
      "text/plain": [
       "<IPython.core.display.HTML object>"
      ]
     },
     "metadata": {},
     "output_type": "display_data"
    }
   ],
   "source": [
    "import gradio as gr\n",
    "def chatbot(text):\n",
    "    embedding = model.encode(text)\n",
    "    \n",
    "    df['similarity'] = df['embedding'].map(lambda x: cosine_similarity([embedding], [x]).squeeze())\n",
    "    answer = df.loc[df['similarity'].idxmax()]\n",
    "    \n",
    "    return answer['챗봇']\n",
    "\n",
    "demo = gr.Interface(fn=chatbot, inputs='text', outputs='text')\n",
    "demo.launch(debug=True, share=True)"
   ]
  }
 ],
 "metadata": {
  "kernelspec": {
   "display_name": "Python 3 (ipykernel)",
   "language": "python",
   "name": "python3"
  },
  "language_info": {
   "codemirror_mode": {
    "name": "ipython",
    "version": 3
   },
   "file_extension": ".py",
   "mimetype": "text/x-python",
   "name": "python",
   "nbconvert_exporter": "python",
   "pygments_lexer": "ipython3",
   "version": "3.11.4"
  }
 },
 "nbformat": 4,
 "nbformat_minor": 5
}
